{
 "cells": [
  {
   "cell_type": "markdown",
   "id": "bb311c2b",
   "metadata": {},
   "source": [
    "text structure: As of July 6, 2022, a total of 128 confirmed orthopoxvirus/monkeypox cases-a designation established by the Centers for Disease Control and Prevention (CDC)-have been identified with 119 in New York City, 5 in Westchester County, \n",
    "1 in Sullivan County, 1 in Chemung County, 1 in Rockland County and 1 in Suffolk County."
   ]
  },
  {
   "cell_type": "code",
   "execution_count": 250,
   "id": "a98ace15",
   "metadata": {},
   "outputs": [],
   "source": [
    "import pandas as pd\n",
    "import requests\n",
    "import re\n",
    "from bs4 import BeautifulSoup\n",
    "\n",
    "url='https://health.ny.gov/diseases/communicable/zoonoses/monkeypox/'\n",
    "response=requests.get(url)\n",
    "content=BeautifulSoup(response.content, 'html.parser')\n",
    "\n",
    "main=content.find(\"div\", {\"id\":\"content\"})\n",
    "\n",
    "main_text=main.find(class_='box').text.strip()\n",
    "\n",
    "# df=pd.DataFrame(re.findall('\\d+\\s+\\w+\\s+\\w+', main_text), columns={'cases'})\n",
    "# df['case_count']=df.cases.str.extract(r'(\\w+)').astype(int)\n",
    "# df['region']=df.cases.str.extract(r'(\\w+)$')\n",
    "# df['region']=df.region.str.replace(\"New\",'NYC')\n",
    "\n",
    "county_list=[]\n",
    "for tr in main.find_all('table')[0]:\n",
    "    county_dict={}\n",
    "    county_dict['ele']=tr.text.strip()\n",
    "    county_list.append(county_dict)\n",
    "    \n",
    "latest_df=pd.DataFrame(county_list)\n",
    "\n",
    "new_df=latest_df.ele.str.split(\"\\n\", expand=True).dropna().reset_index(drop=True)\n",
    "new_df.columns=['region', 'case_count']\n",
    "new_df=new_df.iloc[1:].reset_index(drop=True)\n",
    "new_df['case_count']=new_df.case_count.str.replace(\",\",\"\").astype(int)\n",
    "\n",
    "timestamp=re.findall('As of .* 2022', main_text)[0]\n",
    "new_df['timestamp']=reporting_date\n",
    "new_df['timestamp']=pd.to_datetime(new_df.timestamp.str.replace(\"As of \",\"\")).dt.strftime(\"%Y-%m-%d\")\n",
    "\n",
    "cumulative_cases_all_counties=pd.read_json('data/cumulative_cases_all_counties.json', dtype={'timestamp':str})\n",
    "cumulative_cases_all_counties=pd.concat([cumulative_cases_all_counties, new_df]).drop_duplicates()\n",
    "\n",
    "nyc_df=cumulative_cases_all_counties[cumulative_cases_all_counties.region.isin(['Total', 'NYC'])\n",
    "                                    ].reset_index(drop=True)\n",
    "\n",
    "nyc_df['timestamp']=pd.to_datetime(nyc_df.timestamp)\n",
    "nyc_df['daily_cases']=nyc_df.sort_values('timestamp').groupby('region').case_count.diff()\n",
    "\n",
    "new_df.to_json(f'data/monkeypox_{timestamp}.json', orient='records')\n",
    "cumulative_cases_all_counties.to_json('data/cumulative_cases_all_counties.json', orient='records')\n",
    "cumulative_cases_all_counties.to_csv('data/cumulative_cases_all_counties.csv', index=False)\n",
    "nyc_df.to_json('data/all-data.json', orient='records')"
   ]
  },
  {
   "cell_type": "code",
   "execution_count": 234,
   "id": "1d382ac3",
   "metadata": {},
   "outputs": [],
   "source": [
    "# all_data=pd.read_csv('data/cumulative_cases_all_counties.csv')\n",
    "# all_data=all_data[~all_data.reporting_date.isin(['July 25 2022'])].reset_index(drop=True)\n",
    "# all_data=all_data[['timestamp', 'region', 'case_count']]\n",
    "# cumulative_cases_all_counties=pd.concat([all_data, new_df]).drop_duplicates()\n",
    "# cumulative_cases_all_counties['region']=cumulative_cases_all_counties['region'].str.replace(\"orthopoxvirus\", \n",
    "# 'Total')\n",
    "\n",
    "# cumulative_cases_all_counties['timestamp']=pd.to_datetime(cumulative_cases_all_counties.timestamp\n",
    "#                                                          ).dt.strftime(\"%Y-%m-%d\")\n",
    "# cumulative_cases_all_counties.to_json('data/cumulative_cases_all_counties.json', orient='records')"
   ]
  },
  {
   "cell_type": "code",
   "execution_count": 219,
   "id": "2aa7ea74",
   "metadata": {},
   "outputs": [],
   "source": []
  },
  {
   "cell_type": "code",
   "execution_count": 222,
   "id": "dac205e4",
   "metadata": {},
   "outputs": [],
   "source": []
  },
  {
   "cell_type": "code",
   "execution_count": null,
   "id": "3214b5d7",
   "metadata": {},
   "outputs": [],
   "source": []
  }
 ],
 "metadata": {
  "kernelspec": {
   "display_name": "Python 3",
   "language": "python",
   "name": "python3"
  },
  "language_info": {
   "codemirror_mode": {
    "name": "ipython",
    "version": 3
   },
   "file_extension": ".py",
   "mimetype": "text/x-python",
   "name": "python",
   "nbconvert_exporter": "python",
   "pygments_lexer": "ipython3",
   "version": "3.9.13"
  }
 },
 "nbformat": 4,
 "nbformat_minor": 5
}
