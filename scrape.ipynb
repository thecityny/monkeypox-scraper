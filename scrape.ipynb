{
 "cells": [
  {
   "cell_type": "markdown",
   "id": "bb311c2b",
   "metadata": {},
   "source": [
    "text structure: As of July 6, 2022, a total of 128 confirmed orthopoxvirus/monkeypox cases-a designation established by the Centers for Disease Control and Prevention (CDC)-have been identified with 119 in New York City, 5 in Westchester County, \n",
    "1 in Sullivan County, 1 in Chemung County, 1 in Rockland County and 1 in Suffolk County."
   ]
  },
  {
   "cell_type": "code",
   "execution_count": 1,
   "id": "a98ace15",
   "metadata": {},
   "outputs": [],
   "source": [
    "import pandas as pd\n",
    "import requests\n",
    "import re\n",
    "from bs4 import BeautifulSoup\n",
    "\n",
    "url='https://health.ny.gov/diseases/communicable/zoonoses/monkeypox/'\n",
    "response=requests.get(url)\n",
    "content=BeautifulSoup(response.content)\n",
    "\n",
    "main=content.find(\"div\", {\"id\":\"content\"})\n",
    "\n",
    "main_text=main.find(class_='box').text.strip()\n",
    "\n",
    "try: \n",
    "    reporting_date=re.search('As of\\s+\\w+\\s+\\d+,\\s+\\d{4}', main_text)[0]\n",
    "    df=pd.DataFrame(re.findall('\\d+\\s+\\w+\\s+\\w+', main_text), columns={'cases'})\n",
    "    df['case_count']=df.cases.str.extract(r'(\\w+)').astype(int)\n",
    "    df['region']=df.cases.str.extract(r'(\\w+)$')\n",
    "    df['region']=df.region.str.replace(\"New\",'NYC')\n",
    "    df['reporting_date']=re.search('As of\\s+\\w+\\s+\\d+,\\s+\\d{4}', main_text)[0]\n",
    "    df['reporting_date']=df.reporting_date.str.replace(\"As of \",\"\")\n",
    "    df=df[['reporting_date', 'region', 'case_count', 'cases']]\n",
    "\n",
    "except:\n",
    "    pass\n",
    "\n",
    "df.to_csv(f'data/monkeypox_cases_{reporting_date}.csv', index=False)"
   ]
  }
 ],
 "metadata": {
  "kernelspec": {
   "display_name": "Python 3",
   "language": "python",
   "name": "python3"
  },
  "language_info": {
   "codemirror_mode": {
    "name": "ipython",
    "version": 3
   },
   "file_extension": ".py",
   "mimetype": "text/x-python",
   "name": "python",
   "nbconvert_exporter": "python",
   "pygments_lexer": "ipython3",
   "version": "3.9.13"
  }
 },
 "nbformat": 4,
 "nbformat_minor": 5
}
