{
 "cells": [
  {
   "cell_type": "markdown",
   "id": "bb311c2b",
   "metadata": {},
   "source": [
    "text structure: As of July 6, 2022, a total of 128 confirmed orthopoxvirus/monkeypox cases-a designation established by the Centers for Disease Control and Prevention (CDC)-have been identified with 119 in New York City, 5 in Westchester County, \n",
    "1 in Sullivan County, 1 in Chemung County, 1 in Rockland County and 1 in Suffolk County."
   ]
  },
  {
   "cell_type": "code",
   "execution_count": 13,
   "id": "a98ace15",
   "metadata": {},
   "outputs": [],
   "source": [
    "import pandas as pd\n",
    "import requests\n",
    "import re\n",
    "from bs4 import BeautifulSoup\n",
    "\n",
    "url='https://health.ny.gov/diseases/communicable/zoonoses/monkeypox/'\n",
    "response=requests.get(url)\n",
    "content=BeautifulSoup(response.content, 'html.parser')\n",
    "\n",
    "main=content.find(\"div\", {\"id\":\"content\"})\n",
    "\n",
    "main_text=main.find(class_='box').text.strip()\n",
    "\n",
    "df=pd.DataFrame(re.findall('\\d+\\s+\\w+\\s+\\w+', main_text), columns={'cases'})\n",
    "df['case_count']=df.cases.str.extract(r'(\\w+)').astype(int)\n",
    "df['region']=df.cases.str.extract(r'(\\w+)$')\n",
    "df['region']=df.region.str.replace(\"New\",'NYC')\n",
    "\n",
    "reporting_date=re.findall('As of .* 2022', main_text)[0]\n",
    "df['reporting_date']=reporting_date\n",
    "\n",
    "df['reporting_date']=df.reporting_date.str.replace(\"As of \",\"\")\n",
    "df=df[['reporting_date', 'region', 'case_count', 'cases']]\n",
    "df['timestamp']=pd.to_datetime(df['reporting_date'])\n",
    "\n",
    "\n",
    "df.to_json(f'data/monkeypox_{reporting_date}.json', orient='records')\n",
    "\n",
    "all_data=pd.read_json('data/all-data.json')\n",
    "merged_df=pd.concat([all_data, df], ignore_index=True).drop_duplicates()\n",
    "\n",
    "merged_df['timestamp']=pd.to_datetime(merged_df['reporting_date']).dt.strftime(\"%Y-%m-%d\")\n",
    "\n",
    "\n",
    "merged_df.to_csv('data/all-data.csv', index=False)\n",
    "merged_df.to_json('data/all-data.json', orient='records')\n",
    "\n",
    "\n"
   ]
  },
  {
   "cell_type": "code",
   "execution_count": 2,
   "id": "031c0f95",
   "metadata": {},
   "outputs": [],
   "source": [
    "# pd.concat([pd.read_csv('data/july6.csv'),pd.read_csv('data/july7.csv')], ignore_index=True).to_csv(\n",
    "#     'data/all-data.csv', index=False)\n"
   ]
  },
  {
   "cell_type": "code",
   "execution_count": 12,
   "id": "5666f760",
   "metadata": {},
   "outputs": [
    {
     "name": "stdout",
     "output_type": "stream",
     "text": [
      "<class 'pandas.core.frame.DataFrame'>\n",
      "Int64Index: 61 entries, 0 to 60\n",
      "Data columns (total 5 columns):\n",
      " #   Column          Non-Null Count  Dtype \n",
      "---  ------          --------------  ----- \n",
      " 0   reporting_date  61 non-null     object\n",
      " 1   region          61 non-null     object\n",
      " 2   case_count      61 non-null     int64 \n",
      " 3   cases           61 non-null     object\n",
      " 4   timestamp       61 non-null     object\n",
      "dtypes: int64(1), object(4)\n",
      "memory usage: 2.9+ KB\n"
     ]
    }
   ],
   "source": [
    "merged_df.info()"
   ]
  },
  {
   "cell_type": "code",
   "execution_count": null,
   "id": "dcf5a885",
   "metadata": {},
   "outputs": [],
   "source": []
  }
 ],
 "metadata": {
  "kernelspec": {
   "display_name": "Python 3",
   "language": "python",
   "name": "python3"
  },
  "language_info": {
   "codemirror_mode": {
    "name": "ipython",
    "version": 3
   },
   "file_extension": ".py",
   "mimetype": "text/x-python",
   "name": "python",
   "nbconvert_exporter": "python",
   "pygments_lexer": "ipython3",
   "version": "3.9.13"
  }
 },
 "nbformat": 4,
 "nbformat_minor": 5
}
